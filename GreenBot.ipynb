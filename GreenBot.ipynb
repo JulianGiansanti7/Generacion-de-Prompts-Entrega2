{
 "cells": [
  {
   "cell_type": "code",
   "execution_count": null,
   "id": "9916c4df-d6a2-4eaf-84c1-1580b3460e92",
   "metadata": {},
   "outputs": [],
   "source": [
    "import google.generativeai as genai\n",
    "genai.configure(api_key=\"  \")"
   ]
  },
  {
   "cell_type": "code",
   "execution_count": 25,
   "id": "ef463dc1-112f-4739-b24f-c7152d9c14bc",
   "metadata": {},
   "outputs": [],
   "source": [
    "prompt_base = \"\"\" \n",
    "Eres un Asistente de Jardinería. Recibirás mensajes de clientes con: nombre, dirección, teléfono, problema a resolver, fecha y horario disponible. Genera un presupuesto basado en estos precios:\n",
    "\n",
    "Corte de pasto:\n",
    "- Corte: $100/m²\n",
    "- Recolección de restos: $20/m² (opcional)\n",
    "\n",
    "Poda de arbustos:\n",
    "- Pequeños: $5.000\n",
    "- Medianos: $8.000\n",
    "- Grandes: $12.000\n",
    "\n",
    "Poda de árboles:\n",
    "- Normales: $30.000\n",
    "- Grandes (>8m): $45.000\n",
    "- Palmeras: $10.000\n",
    "- Recolección de ramas: $15.000 (opcional)\n",
    "\n",
    "Extracción de árboles:\n",
    "- 2–4m: $100.000\n",
    "- 4–8m: $140.000\n",
    "- 8–15m (grúa): $200.000\n",
    "- más de 15m (grúa): $300.000\n",
    "- Recolección de ramas: $50.000\n",
    "\n",
    "Nota: Si se necesita grúa o volquete, agregar el costo extra que cobre la empresa de alquiler.\n",
    "\n",
    "Costos adicionales por alquiler:\n",
    "- Grúa: $250.000 (agregar si el trabajo requiere)\n",
    "- Volquete: $75.000 (agregar si el cliente lo necesita)\n",
    "\n",
    "Salida esperada:\n",
    "\n",
    "Nombre Cliente: [Nombre]  \n",
    "Dirección: [Dirección]  \n",
    "Número de teléfono: [Teléfono]  \n",
    "Fecha Disponible: [DD/MM/AAAA] (hora)  \n",
    "\n",
    "Tipo de Trabajo: [Descripción con medidas y categoría]  \n",
    "Presupuesto: [Detalle de costos, incluyendo opcionales]  \n",
    "Total: [Suma total]\n",
    "\n",
    "Un jardinero se pondra en contacto contigo en las proximas 24hs! saludos!\n",
    "\n",
    "\n",
    "***Ejemplo de entrada:*** \n",
    "\n",
    "\"Hola, me llamo Julian Giansanti, necesito podar un árbol de 10m que bloquea el sol en mi quincho. Vivo en Manuel Belgrano 999, estoy disponible este viernes 12 de septiembre a partir de las 12 del mediodía, mi número es 341-1234-567.\"\n",
    "\n",
    "***Ejemplo de salida:***\n",
    "\n",
    "Nombre Cliente: Julian Giansanti  \n",
    "Dirección: Manuel Belgrano 999  \n",
    "Número de teléfono: 341-1234-567  \n",
    "Fecha Disponible: 12/09/2025 (a partir de las 12:00 hs)  \n",
    "\n",
    "Tipo de Trabajo: Poda de árbol de 10 metros (Grande)  \n",
    "Presupuesto: Poda de árbol grande: $45.000 + Recolección (opcional) $15.000  \n",
    "Total: $60.000\n",
    "\n",
    "Un jardinero se pondra en contacto contigo en las proximas 24hs! saludos!\n",
    "\n",
    "FIN DE EJEMPLOS\n",
    "\n",
    "ahora cuando un cliente deje una nota, genera esa nueva nota: \n",
    "{user_input}\n",
    "\"\"\"\n",
    "\n"
   ]
  },
  {
   "cell_type": "code",
   "execution_count": 23,
   "id": "d0dc6b9c-8864-496e-b98c-719dc23882d6",
   "metadata": {},
   "outputs": [],
   "source": [
    "def generate_document(prompt_template, user_data):\n",
    "\n",
    "    model = genai.GenerativeModel('gemini-2.5-flash')\n",
    "    \n",
    "    final_prompt = prompt_template.format(user_input=user_data)\n",
    "    \n",
    "    response = model.generate_content(final_prompt)\n",
    "    \n",
    "    return response.text"
   ]
  },
  {
   "cell_type": "code",
   "execution_count": null,
   "id": "68e5abee-ce68-46ac-b48d-92c0391080a5",
   "metadata": {
    "scrolled": true
   },
   "outputs": [],
   "source": [
    "user_input = input(\"Hola somos GreenCut! Cual es tu consulta? dejanos tu nombre, direccion, telefono, fecha con disponibilidad y especifica tu problema que lo resolveremos lo antes posible!\")\n",
    "print(generate_document(prompt_base, user_input))"
   ]
  },
  {
   "cell_type": "code",
   "execution_count": null,
   "id": "b26b9e01-8da9-47b2-9238-3cbbfe25c635",
   "metadata": {},
   "outputs": [],
   "source": []
  }
 ],
 "metadata": {
  "kernelspec": {
   "display_name": "Python 3 (ipykernel)",
   "language": "python",
   "name": "python3"
  },
  "language_info": {
   "codemirror_mode": {
    "name": "ipython",
    "version": 3
   },
   "file_extension": ".py",
   "mimetype": "text/x-python",
   "name": "python",
   "nbconvert_exporter": "python",
   "pygments_lexer": "ipython3",
   "version": "3.10.18"
  }
 },
 "nbformat": 4,
 "nbformat_minor": 5
}
